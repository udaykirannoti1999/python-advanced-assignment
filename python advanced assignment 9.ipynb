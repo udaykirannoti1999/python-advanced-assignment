{
 "cells": [
  {
   "attachments": {},
   "cell_type": "markdown",
   "metadata": {},
   "source": [
    "1. YouTube offers different playback speed options for users. This allows\n",
    "\n",
    "users to increase or decrease the speed of the video content. Given the actual duration and playback speed of the video, calculate the playback duration of the video. Examples playback_duration('00:30:00', 2) ➞ '00:15:00' playback_duration('01:20:00', 1.5) ➞ '00:53:20'\n",
    "\n"
   ]
  },
  {
   "cell_type": "code",
   "execution_count": 1,
   "metadata": {},
   "outputs": [],
   "source": [
    "import datetime\n",
    "def playback_duration(actualDuration,speed):\n",
    "\n",
    "    hour = int(actualDuration.split(':')[0])\n",
    "    minute = int(actualDuration.split(':')[1])\n",
    "    sec = int(actualDuration.split(':')[2])\n",
    "    #Total playbackduration in x speed\n",
    "    totalsec = ((hour*60*60) + (minute*60) + sec)/speed\n",
    "    #convert seconds in to time formate\n",
    "    conversion = datetime.timedelta(seconds=totalsec)\n",
    "    converted_time = str(conversion)\n",
    "    return converted_time"
   ]
  },
  {
   "cell_type": "code",
   "execution_count": 2,
   "metadata": {},
   "outputs": [
    {
     "data": {
      "text/plain": [
       "'0:15:00'"
      ]
     },
     "execution_count": 2,
     "metadata": {},
     "output_type": "execute_result"
    }
   ],
   "source": [
    "playback_duration('00:30:00', 2)\n",
    "\n",
    "     "
   ]
  },
  {
   "attachments": {},
   "cell_type": "markdown",
   "metadata": {},
   "source": [
    "2. We needs your help to construct a building which will be a pile of n cubes.\n",
    "\n",
    "The cube at the bottom will have a volume of n^3, the cube above will have volume of (n-1)^3 and so on until the top which will have a volume of 1^3. Given the total volume m of the building, can you find the number of cubes n required for the building? In other words, you have to return an integer n such that: n^3 + (n-1)^3 + ... + 1^3 == m Return None if there is no such number. Examples pile_of_cubes(1071225) ➞ 45 pile_of_cubes(4183059834009) ➞ 2022 pile_of_cubes(16) ➞ None"
   ]
  },
  {
   "cell_type": "code",
   "execution_count": 3,
   "metadata": {},
   "outputs": [],
   "source": [
    "def max_level(remain_volume, currLevel):\n",
    "    if remain_volume < currLevel ** 3:\n",
    "        return -1\n",
    "    if remain_volume == currLevel ** 3:\n",
    "        return currLevel\n",
    "    return max_level(remain_volume - currLevel**3, currLevel + 1)\n",
    "\n",
    "def pile_of_cubes(vol):\n",
    "    level = 1\n",
    "    return max_level(vol, level)"
   ]
  },
  {
   "cell_type": "code",
   "execution_count": 4,
   "metadata": {},
   "outputs": [
    {
     "data": {
      "text/plain": [
       "45"
      ]
     },
     "execution_count": 4,
     "metadata": {},
     "output_type": "execute_result"
    }
   ],
   "source": [
    "pile_of_cubes(1071225)"
   ]
  },
  {
   "attachments": {},
   "cell_type": "markdown",
   "metadata": {},
   "source": [
    " 3. A fulcrum of a list is an integer such that all elements to the left of it and all\n",
    "\n",
    "elements to the right of it sum to the same value. Write a function that finds the fulcrum of a list. To illustrate: find_fulcrum([3, 1, 5, 2, 4, 6, -1]) ➞ 2 // Since [3, 1, 5] and [4, 6, -1] both sum to 9 Examples\n",
    "\n",
    "find_fulcrum([1, 2, 4, 9, 10, -10, -9, 3]) ➞ 4 find_fulcrum([9, 1, 9]) ➞ 1 find_fulcrum([7, -1, 0, -1, 1, 1, 2, 3]) ➞ 0 find_fulcrum([8, 8, 8, 8]) ➞ -1\n",
    "\n",
    "\n",
    "# Function to compute partition"
   ]
  },
  {
   "cell_type": "code",
   "execution_count": 5,
   "metadata": {},
   "outputs": [],
   "source": [
    "def find_fulcrum(arr) :\n",
    "    size = len(arr)\n",
    "    right_sum, left_sum = 0, 0\n",
    " \n",
    "    # Computing right_sum\n",
    "    for i in range(1, size) :\n",
    "        right_sum += arr[i]\n",
    " \n",
    "    i, j = 0, 1\n",
    " \n",
    "    # Checking the point of partition\n",
    "    # i.e. left_Sum == right_sum\n",
    "    while j < size :\n",
    "        right_sum -= arr[j]\n",
    "        left_sum += arr[i]\n",
    " \n",
    "        if left_sum == right_sum :\n",
    "            return arr[i + 1]\n",
    " \n",
    "        j += 1\n",
    "        i += 1\n",
    " \n",
    "    return -1"
   ]
  },
  {
   "cell_type": "code",
   "execution_count": 6,
   "metadata": {},
   "outputs": [
    {
     "data": {
      "text/plain": [
       "4"
      ]
     },
     "execution_count": 6,
     "metadata": {},
     "output_type": "execute_result"
    }
   ],
   "source": [
    "find_fulcrum([1, 2, 4, 9, 10, -10, -9, 3])\n",
    "\n",
    "     "
   ]
  },
  {
   "attachments": {},
   "cell_type": "markdown",
   "metadata": {},
   "source": [
    "4. Given a list of integers representing the color of each sock, determine how\n",
    "\n",
    "many pairs of socks with matching colors there are. For example, there are 7 socks with colors [1, 2, 1, 2, 1, 3, 2]. There is one pair of color 1 and one of color 2. There are three odd socks left, one of each color. The number of pairs is 2. Create a function that returns an integer representing the number of matching pairs of socks that are available. Examples sock_merchant([10, 20, 20, 10, 10, 30, 50, 10, 20]) ➞ 3 sock_merchant([50, 20, 30, 90, 30, 20, 50, 20, 90]) ➞ 4 sock_merchant([]) ➞ 0"
   ]
  },
  {
   "cell_type": "code",
   "execution_count": 7,
   "metadata": {},
   "outputs": [],
   "source": [
    "def sock_merchant(lst):\n",
    "    listUnique = list(set(lst))\n",
    "    # find count\n",
    "    pairs = 0\n",
    "    for i in listUnique:\n",
    "        if lst.count(i) // 2 > 0:\n",
    "            pairs = pairs + lst.count(i) // 2\n",
    "    return pairs\n",
    "     \n"
   ]
  },
  {
   "cell_type": "code",
   "execution_count": 9,
   "metadata": {},
   "outputs": [
    {
     "data": {
      "text/plain": [
       "3"
      ]
     },
     "execution_count": 9,
     "metadata": {},
     "output_type": "execute_result"
    }
   ],
   "source": [
    "sock_merchant([10, 20, 20, 10, 10, 30, 50, 10, 20])\n",
    "\n",
    "     \n"
   ]
  },
  {
   "cell_type": "code",
   "execution_count": 10,
   "metadata": {},
   "outputs": [
    {
     "data": {
      "text/plain": [
       "4"
      ]
     },
     "execution_count": 10,
     "metadata": {},
     "output_type": "execute_result"
    }
   ],
   "source": [
    "sock_merchant([50, 20, 30, 90, 30, 20, 50, 20, 90])"
   ]
  },
  {
   "attachments": {},
   "cell_type": "markdown",
   "metadata": {},
   "source": [
    "5. Create a function that takes a string containing integers as well as other\n",
    "\n",
    "characters and return the sum of the negative integers only. Examples negative_sum('-12 13%14&-11') ➞ -23 // -12 + -11 = -23 negative_sum('22 13%14&-11-22 13 12') ➞ -33 // -11 + -22 = -33"
   ]
  },
  {
   "cell_type": "code",
   "execution_count": 29,
   "metadata": {},
   "outputs": [],
   "source": [
    "import re\n",
    "\n",
    "def negative_sum(s):\n",
    "    result = [int(d) for d in re.findall(r'-\\d+', s)]\n",
    "    print('Negative numbers in string is/are - ',result)\n",
    "    return 'sum is ',sum(result)"
   ]
  },
  {
   "cell_type": "code",
   "execution_count": 30,
   "metadata": {},
   "outputs": [
    {
     "name": "stdout",
     "output_type": "stream",
     "text": [
      "Negative numbers in string is/are -  [-12, -11]\n"
     ]
    },
    {
     "data": {
      "text/plain": [
       "('sum is ', -23)"
      ]
     },
     "execution_count": 30,
     "metadata": {},
     "output_type": "execute_result"
    }
   ],
   "source": [
    "negative_sum('-12 13%14&-11')\n",
    "\n",
    "     "
   ]
  }
 ],
 "metadata": {
  "kernelspec": {
   "display_name": "Python 3",
   "language": "python",
   "name": "python3"
  },
  "language_info": {
   "codemirror_mode": {
    "name": "ipython",
    "version": 3
   },
   "file_extension": ".py",
   "mimetype": "text/x-python",
   "name": "python",
   "nbconvert_exporter": "python",
   "pygments_lexer": "ipython3",
   "version": "3.10.4 (tags/v3.10.4:9d38120, Mar 23 2022, 23:13:41) [MSC v.1929 64 bit (AMD64)]"
  },
  "orig_nbformat": 4,
  "vscode": {
   "interpreter": {
    "hash": "57227d0e1e6fd139db46774f32d8a6998d06bb1f205932b0fd7e8f2aa638e8eb"
   }
  }
 },
 "nbformat": 4,
 "nbformat_minor": 2
}
