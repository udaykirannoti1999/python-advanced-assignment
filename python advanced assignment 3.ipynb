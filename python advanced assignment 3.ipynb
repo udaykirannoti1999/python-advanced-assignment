{
 "cells": [
  {
   "attachments": {},
   "cell_type": "markdown",
   "metadata": {},
   "source": [
    " 1. Create a function to perform basic arithmetic operations that includes\n",
    "\n",
    "addition, subtraction, multiplication and division on a string number (e.g. '12 + 24' or '23 - 21' or '12 // 12' or '12 * 21'). Here, we have 1 followed by a space, operator followed by another space and 2. For the challenge, we are going to have only two numbers between 1 valid operator. The return value should be a number. eval() is not allowed. In case of division, whenever the second number equals '0' return -1. For example: '15 // 0' ➞ -1 Examples arithmetic_operation('12 + 12') ➞ 24 // 12 + 12 = 24 arithmetic_operation('12 - 12') ➞ 24 // 12 - 12 = 0 arithmetic_operation('12 * 12') ➞ 144 // 12 * 12 = 144 arithmetic_operation('12 // 0') ➞ -1 // 12 / 0 = -1"
   ]
  },
  {
   "cell_type": "code",
   "execution_count": 5,
   "metadata": {},
   "outputs": [],
   "source": [
    "def cal(str):\n",
    "    operators = ['+','*','/','-','//','%']\n",
    "    exp = list(str.split())\n",
    "    if exp[1] == '+':\n",
    "        print(\"The expression :\",str)\n",
    "        return int(exp[0]) + int(exp[2])\n",
    "    elif exp[1] == '-':\n",
    "        print(\"The expression :\",str)\n",
    "        return int(exp[0]) - int(exp[2])\n",
    "    elif exp[1] == '//':\n",
    "        print(\"The expression :\",str)\n",
    "        if int(exp[2]) == 0 or int(exp[0]) == 0:\n",
    "            return -1\n",
    "        else:\n",
    "            return int(exp[0]) // int(exp[2])    \n",
    "    elif exp[1] == '*':\n",
    "        print(\"The expression :\",str)\n",
    "        return int(exp[0]) * int(exp[2]) \n",
    "    elif exp[1] == '/':\n",
    "        print(\"The expression :\",str)\n",
    "        if int(exp[2]) == 0 or int(exp[0]) == 0:\n",
    "            return -1\n",
    "        else:            \n",
    "            return int(exp[0]) / int(exp[2])              \n",
    "    elif exp[1] == '%':\n",
    "        print(\"The expression :\",str)\n",
    "        return int(exp[0])  % int(exp[2])"
   ]
  },
  {
   "cell_type": "code",
   "execution_count": 8,
   "metadata": {},
   "outputs": [
    {
     "name": "stdout",
     "output_type": "stream",
     "text": [
      "The expression : 12 + 3 - 4\n"
     ]
    },
    {
     "data": {
      "text/plain": [
       "15"
      ]
     },
     "execution_count": 8,
     "metadata": {},
     "output_type": "execute_result"
    }
   ],
   "source": [
    "cal('12 + 3')"
   ]
  },
  {
   "cell_type": "code",
   "execution_count": 9,
   "metadata": {},
   "outputs": [
    {
     "name": "stdout",
     "output_type": "stream",
     "text": [
      "The expression : 12 * 3\n"
     ]
    },
    {
     "data": {
      "text/plain": [
       "36"
      ]
     },
     "execution_count": 9,
     "metadata": {},
     "output_type": "execute_result"
    }
   ],
   "source": [
    "cal('12 * 3')"
   ]
  },
  {
   "attachments": {},
   "cell_type": "markdown",
   "metadata": {},
   "source": [
    " 2. Write a function that takes the coordinates of three points in the form of a\n",
    "\n",
    "2d array and returns the perimeter of the triangle. The given points are the vertices of a triangle on a two-dimensional plane. Examples perimeter( [ [15, 7], [5, 22], [11, 1] ] ) ➞ 47.08 perimeter( [ [0, 0], [0, 1], [1, 0] ] ) ➞ 3.42 perimeter( [ [-10, -10], [10, 10 ], [-10, 10] ] ) ➞ 68.28"
   ]
  },
  {
   "cell_type": "code",
   "execution_count": 21,
   "metadata": {},
   "outputs": [],
   "source": [
    "import math\n",
    "def perimeter(arr):\n",
    "   \n",
    "    x = arr[0]\n",
    "    y = arr[1]\n",
    "    z = arr[2]\n",
    "    a = math.sqrt((x[0]-x[1])**2 + (y[0]-y[1])**2)\n",
    "    b = math.sqrt((y[0]-y[1])**2 + (z[0]-z[1])**2)\n",
    "    c = math.sqrt((z[0]-z[1])**2 + (x[0]-x[1])**2)\n",
    "    perimetr = a + b + c\n",
    "    print(\"The co ordinates are \",x,y,z)\n",
    "    return perimetr"
   ]
  },
  {
   "cell_type": "code",
   "execution_count": 22,
   "metadata": {},
   "outputs": [
    {
     "name": "stdout",
     "output_type": "stream",
     "text": [
      "The co ordinates are  [15, 7] [5, 22] [11, 1]\n"
     ]
    },
    {
     "data": {
      "text/plain": [
       "51.31762562623766"
      ]
     },
     "execution_count": 22,
     "metadata": {},
     "output_type": "execute_result"
    }
   ],
   "source": [
    "perimeter( [ [15, 7], [5, 22], [11, 1] ] )"
   ]
  },
  {
   "cell_type": "code",
   "execution_count": 23,
   "metadata": {},
   "outputs": [
    {
     "name": "stdout",
     "output_type": "stream",
     "text": [
      "The co ordinates are  [0, 0] [0, 1] [1, 0]\n"
     ]
    },
    {
     "data": {
      "text/plain": [
       "3.414213562373095"
      ]
     },
     "execution_count": 23,
     "metadata": {},
     "output_type": "execute_result"
    }
   ],
   "source": [
    "perimeter( [ [0, 0], [0, 1], [1, 0] ] )\n"
   ]
  },
  {
   "attachments": {},
   "cell_type": "markdown",
   "metadata": {},
   "source": [
    "3. A city skyline can be represented as a 2-D list with 1s representing\n",
    "\n",
    "buildings. In the example below, the height of the tallest building is 4 (second- most right column)."
   ]
  },
  {
   "cell_type": "code",
   "execution_count": 76,
   "metadata": {},
   "outputs": [],
   "source": [
    "def tallest_skyscraper(array):\n",
    "    list_of_height = []\n",
    "    sum = 0\n",
    "    for i in range(len(array)):\n",
    "        for j in range(len(array)):\n",
    "            sum = sum + array[j][i]\n",
    "        list_of_height.append(sum)\n",
    "        sum=0\n",
    "        \n",
    "    return \"The hieght of tallest building is : \", max(list_of_height)"
   ]
  },
  {
   "cell_type": "code",
   "execution_count": 77,
   "metadata": {},
   "outputs": [
    {
     "data": {
      "text/plain": [
       "('The hieght of tallest building is : ', 4)"
      ]
     },
     "execution_count": 77,
     "metadata": {},
     "output_type": "execute_result"
    }
   ],
   "source": [
    "tallest_skyscraper([\n",
    "[0, 2, 3],\n",
    "[0, 1, 0],\n",
    "[0, 1, 1],\n",
    "])"
   ]
  },
  {
   "cell_type": "code",
   "execution_count": 78,
   "metadata": {},
   "outputs": [
    {
     "data": {
      "text/plain": [
       "('The hieght of tallest building is : ', 3)"
      ]
     },
     "execution_count": 78,
     "metadata": {},
     "output_type": "execute_result"
    }
   ],
   "source": [
    "\n",
    "tallest_skyscraper([\n",
    "[0, 0, 0, 0],\n",
    "[0, 1, 0, 0],\n",
    "[0, 1, 1, 0],\n",
    "[1, 1, 1, 1]\n",
    "])"
   ]
  },
  {
   "attachments": {},
   "cell_type": "markdown",
   "metadata": {},
   "source": [
    "Q. 4. A financial institution provides professional services to banks and claims\n",
    "\n",
    "charges from the customers based on the number of man-days provided. Internally, it has set a scheme to motivate and reward staff to meet and exceed targeted billable utilization and revenues by paying a bonus for each day claimed from customers in excess of a threshold target. This quarterly scheme is calculated with a threshold target of 32 days per quarter, and the incentive payment for each billable day in excess of such threshold target is shown as follows: y\n",
    "\n"
   ]
  },
  {
   "cell_type": "code",
   "execution_count": 79,
   "metadata": {},
   "outputs": [],
   "source": [
    "def bonus(day):\n",
    "    days = [32,40,48]\n",
    "    inc = 0\n",
    "    while True :\n",
    "        if day <=32 :\n",
    "            break\n",
    "        if day > 48:\n",
    "            inc = inc + (day - days[2]) * 600\n",
    "            day = day - (day - days[2])\n",
    "            print(inc)\n",
    "        elif day > 40 :\n",
    "            inc = inc + (day -days[1]) * 550\n",
    "            day = day - (day - days[1])\n",
    "        elif day > 32:\n",
    "            inc = inc + (day -days[0]) * 325\n",
    "            day = day - (day - days[0])\n",
    "    return \"The incentive is : \",inc"
   ]
  },
  {
   "cell_type": "code",
   "execution_count": 80,
   "metadata": {},
   "outputs": [
    {
     "data": {
      "text/plain": [
       "('The incentive is : ', 0)"
      ]
     },
     "execution_count": 80,
     "metadata": {},
     "output_type": "execute_result"
    }
   ],
   "source": [
    "bonus(15)"
   ]
  },
  {
   "cell_type": "code",
   "execution_count": 81,
   "metadata": {},
   "outputs": [
    {
     "data": {
      "text/plain": [
       "('The incentive is : ', 5350)"
      ]
     },
     "execution_count": 81,
     "metadata": {},
     "output_type": "execute_result"
    }
   ],
   "source": [
    "bonus(45)\n"
   ]
  },
  {
   "attachments": {},
   "cell_type": "markdown",
   "metadata": {},
   "source": [
    " 5. A number is said to be Disarium if the sum of its digits raised to their\n",
    "\n",
    "respective positions is the number itself. Create a function that determines whether a number is a Disarium or not. Examples is_disarium(75) ➞ False 7^1 + 5^2 = 7 + 25 = 32 is_disarium(135) ➞ True 1^1 + 3^2 + 5^3 = 1 + 9 + 125 = 135 is_disarium(544) ➞ False is_disarium(518) ➞ True is_disarium(466) ➞ False is_disarium(8) ➞ True"
   ]
  },
  {
   "cell_type": "code",
   "execution_count": 82,
   "metadata": {},
   "outputs": [],
   "source": [
    "def is_disarium(num):\n",
    "    sum = 0\n",
    "    tempNum = num\n",
    "    while(num>0):\n",
    "        dgcnt= len(str(num))\n",
    "        digit = num%10\n",
    "        sum= sum + digit**dgcnt   \n",
    "        dgcnt-=1\n",
    "        num = num//10    \n",
    "    if sum == tempNum:\n",
    "        return tempNum,\"Number is Disarium\"\n",
    "    else:\n",
    "        return tempNum,\"Number is not Disarium\"\n",
    "     "
   ]
  },
  {
   "cell_type": "code",
   "execution_count": 83,
   "metadata": {},
   "outputs": [
    {
     "data": {
      "text/plain": [
       "(544, 'Number is not Disarium')"
      ]
     },
     "execution_count": 83,
     "metadata": {},
     "output_type": "execute_result"
    }
   ],
   "source": [
    "is_disarium(544)\n"
   ]
  },
  {
   "cell_type": "code",
   "execution_count": 84,
   "metadata": {},
   "outputs": [
    {
     "data": {
      "text/plain": [
       "(135, 'Number is Disarium')"
      ]
     },
     "execution_count": 84,
     "metadata": {},
     "output_type": "execute_result"
    }
   ],
   "source": [
    "is_disarium(135)\n"
   ]
  }
 ],
 "metadata": {
  "kernelspec": {
   "display_name": "Python 3",
   "language": "python",
   "name": "python3"
  },
  "language_info": {
   "codemirror_mode": {
    "name": "ipython",
    "version": 3
   },
   "file_extension": ".py",
   "mimetype": "text/x-python",
   "name": "python",
   "nbconvert_exporter": "python",
   "pygments_lexer": "ipython3",
   "version": "3.10.4 (tags/v3.10.4:9d38120, Mar 23 2022, 23:13:41) [MSC v.1929 64 bit (AMD64)]"
  },
  "orig_nbformat": 4,
  "vscode": {
   "interpreter": {
    "hash": "57227d0e1e6fd139db46774f32d8a6998d06bb1f205932b0fd7e8f2aa638e8eb"
   }
  }
 },
 "nbformat": 4,
 "nbformat_minor": 2
}
